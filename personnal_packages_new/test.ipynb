{
 "cells": [
  {
   "cell_type": "markdown",
   "id": "074a63f2",
   "metadata": {},
   "source": [
    "Dependencies"
   ]
  },
  {
   "cell_type": "code",
   "execution_count": 36,
   "id": "8447e5cf",
   "metadata": {},
   "outputs": [
    {
     "ename": "ModuleNotFoundError",
     "evalue": "No module named 'personnal_packages_new'",
     "output_type": "error",
     "traceback": [
      "\u001b[0;31m---------------------------------------------------------------------------\u001b[0m",
      "\u001b[0;31mModuleNotFoundError\u001b[0m                       Traceback (most recent call last)",
      "Cell \u001b[0;32mIn[36], line 9\u001b[0m\n\u001b[1;32m      6\u001b[0m \u001b[38;5;28;01mfrom\u001b[39;00m\u001b[38;5;250m \u001b[39m\u001b[38;5;21;01mrdt\u001b[39;00m\u001b[38;5;21;01m.\u001b[39;00m\u001b[38;5;21;01mtransformers\u001b[39;00m\u001b[38;5;21;01m.\u001b[39;00m\u001b[38;5;21;01mutils\u001b[39;00m\u001b[38;5;250m \u001b[39m\u001b[38;5;28;01mimport\u001b[39;00m learn_rounding_digits\n\u001b[1;32m      7\u001b[0m \u001b[38;5;28;01mfrom\u001b[39;00m\u001b[38;5;250m \u001b[39m\u001b[38;5;21;01mjoblib\u001b[39;00m\u001b[38;5;250m \u001b[39m\u001b[38;5;28;01mimport\u001b[39;00m Parallel, delayed\n\u001b[0;32m----> 9\u001b[0m \u001b[38;5;28;01mfrom\u001b[39;00m\u001b[38;5;250m \u001b[39m\u001b[38;5;21;01mpersonnal_packages_new\u001b[39;00m\u001b[38;5;21;01m.\u001b[39;00m\u001b[38;5;21;01mdata_load\u001b[39;00m\u001b[38;5;250m \u001b[39m\u001b[38;5;28;01mimport\u001b[39;00m read_csv\n\u001b[1;32m     10\u001b[0m \u001b[38;5;28;01mfrom\u001b[39;00m\u001b[38;5;250m \u001b[39m\u001b[38;5;21;01mpersonnal_packages_new\u001b[39;00m\u001b[38;5;21;01m.\u001b[39;00m\u001b[38;5;21;01mBaseTrans\u001b[39;00m\u001b[38;5;250m \u001b[39m\u001b[38;5;28;01mimport\u001b[39;00m BaseTransformer\n\u001b[1;32m     11\u001b[0m \u001b[38;5;28;01mfrom\u001b[39;00m\u001b[38;5;250m \u001b[39m\u001b[38;5;21;01mpersonnal_packages_new\u001b[39;00m\u001b[38;5;21;01m.\u001b[39;00m\u001b[38;5;21;01mNullTrans\u001b[39;00m\u001b[38;5;250m \u001b[39m\u001b[38;5;28;01mimport\u001b[39;00m NullTransformer\n",
      "\u001b[0;31mModuleNotFoundError\u001b[0m: No module named 'personnal_packages_new'"
     ]
    }
   ],
   "source": [
    "import json\n",
    "import numpy as np\n",
    "import pandas as pd\n",
    "from importlib import import_module\n",
    "\n",
    "from rdt.transformers.utils import learn_rounding_digits\n",
    "from joblib import Parallel, delayed\n",
    "\n",
    "from personnal_packages_new.data_load import read_csv\n",
    "from personnal_packages_new.BaseTrans import BaseTransformer\n",
    "from personnal_packages_new.NullTrans import NullTransformer\n",
    "from personnal_packages_new.NumericalTransformer import ClusterBasedNormalizer\n",
    "from personnal_packages_new.CategoricalTransformer import OneHotEncoder\n"
   ]
  },
  {
   "cell_type": "code",
   "execution_count": 14,
   "id": "6c44031e",
   "metadata": {},
   "outputs": [],
   "source": [
    "data_path = '../rhc.csv'\n",
    "metadata_path = '../light_metadata.json'"
   ]
  },
  {
   "cell_type": "code",
   "execution_count": 15,
   "id": "b750bca5",
   "metadata": {},
   "outputs": [
    {
     "name": "stdout",
     "output_type": "stream",
     "text": [
      "Found 35 discrete columns from metadata\n"
     ]
    }
   ],
   "source": [
    "data, discrete_columns = read_csv(data_path, metadata_path, header=True)"
   ]
  },
  {
   "cell_type": "markdown",
   "id": "3dcb4967",
   "metadata": {},
   "source": [
    "Data set: 35 categorical + 27 continuous = 62 columns"
   ]
  },
  {
   "cell_type": "code",
   "execution_count": 24,
   "id": "d146a197",
   "metadata": {},
   "outputs": [
    {
     "name": "stdout",
     "output_type": "stream",
     "text": [
      "Na_columns: ['cat2', 'dschdte', 'dthdte', 'adld3p', 'urin1']\n"
     ]
    }
   ],
   "source": [
    "Na_columns = data.columns[data.isna().any()].tolist()\n",
    "print(\"Na_columns:\", Na_columns)"
   ]
  },
  {
   "cell_type": "markdown",
   "id": "8d3dd659",
   "metadata": {},
   "source": [
    "continius columns extraction"
   ]
  },
  {
   "cell_type": "code",
   "execution_count": 34,
   "id": "c8261c27",
   "metadata": {},
   "outputs": [
    {
     "name": "stdout",
     "output_type": "stream",
     "text": [
      "Colonnes continues: ['sadmdte', 'dschdte', 'dthdte', 'lstctdte', 'age', 'edu', 'surv2md1', 'das2d3pc', 't3d30', 'aps1', 'scoma1', 'meanbp1', 'wblc1', 'hrt1', 'resp1', 'temp1', 'pafi1', 'alb1', 'hema1', 'bili1', 'crea1', 'sod1', 'pot1', 'paco21', 'ph1', 'wtkilo1', 'urin1']\n"
     ]
    }
   ],
   "source": [
    "continuous_columns = [col for col in data.columns if col not in discrete_columns]\n",
    "print(f\"Colonnes continues: {continuous_columns}\")"
   ]
  },
  {
   "cell_type": "code",
   "execution_count": null,
   "id": "173fcd00",
   "metadata": {},
   "outputs": [],
   "source": []
  }
 ],
 "metadata": {
  "kernelspec": {
   "display_name": "Python 3",
   "language": "python",
   "name": "python3"
  },
  "language_info": {
   "codemirror_mode": {
    "name": "ipython",
    "version": 3
   },
   "file_extension": ".py",
   "mimetype": "text/x-python",
   "name": "python",
   "nbconvert_exporter": "python",
   "pygments_lexer": "ipython3",
   "version": "3.10.12"
  }
 },
 "nbformat": 4,
 "nbformat_minor": 5
}
