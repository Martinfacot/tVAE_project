{
 "cells": [
  {
   "cell_type": "code",
   "execution_count": null,
   "id": "bd476058",
   "metadata": {},
   "outputs": [],
   "source": [
    "import sys\n",
    "import os\n",
    "import json\n",
    "import numpy as np\n",
    "import pandas as pd\n",
    "from importlib import import_module\n",
    "import seaborn as sns\n",
    "import matplotlib.pyplot as plt\n",
    "\n",
    "# Add the parent directory to the Python path\n",
    "sys.path.append(os.path.abspath('..'))\n",
    "\n",
    "from tVAE_base.tvae_wrapper import TVAESynthesizer\n",
    "from tVAE_base.local import load_csvs\n",
    "\n",
    "from sdv.metadata import Metadata, SingleTableMetadata\n",
    "from sdv.evaluation.single_table import run_diagnostic, evaluate_quality\n",
    "from sdmetrics.single_column import MissingValueSimilarity"
   ]
  },
  {
   "cell_type": "code",
   "execution_count": 25,
   "id": "85ed7651",
   "metadata": {},
   "outputs": [
    {
     "name": "stdout",
     "output_type": "stream",
     "text": [
      "Dataset shape: (5735, 62)\n"
     ]
    },
    {
     "name": "stderr",
     "output_type": "stream",
     "text": [
      "/home/mfacotti/martin/tVAE_project/tVAE_base/local.py:36: UserWarning:\n",
      "\n",
      "Ignoring incompatible files ['EDA.ipynb', 'README.md', 'test_metadata_fixed.json', '.gitignore', 'numerical_no_na_metadata.json', 'original_metadata.json', 'delete_first_column_rhc.py', 'test_metadata.json', 'test_model_tvae.pkl', 'generated_metadata.json', 'light_metadata.json', 'ctgan_test.ipynb'] in folder '/home/mfacotti/martin/tVAE_project'.\n",
      "\n"
     ]
    },
    {
     "data": {
      "text/html": [
       "<div>\n",
       "<style scoped>\n",
       "    .dataframe tbody tr th:only-of-type {\n",
       "        vertical-align: middle;\n",
       "    }\n",
       "\n",
       "    .dataframe tbody tr th {\n",
       "        vertical-align: top;\n",
       "    }\n",
       "\n",
       "    .dataframe thead th {\n",
       "        text-align: right;\n",
       "    }\n",
       "</style>\n",
       "<table border=\"1\" class=\"dataframe\">\n",
       "  <thead>\n",
       "    <tr style=\"text-align: right;\">\n",
       "      <th></th>\n",
       "      <th>cat1</th>\n",
       "      <th>cat2</th>\n",
       "      <th>ca</th>\n",
       "      <th>sadmdte</th>\n",
       "      <th>dschdte</th>\n",
       "      <th>dthdte</th>\n",
       "      <th>lstctdte</th>\n",
       "      <th>death</th>\n",
       "      <th>cardiohx</th>\n",
       "      <th>chfhx</th>\n",
       "      <th>...</th>\n",
       "      <th>meta</th>\n",
       "      <th>hema</th>\n",
       "      <th>seps</th>\n",
       "      <th>trauma</th>\n",
       "      <th>ortho</th>\n",
       "      <th>adld3p</th>\n",
       "      <th>urin1</th>\n",
       "      <th>race</th>\n",
       "      <th>income</th>\n",
       "      <th>ptid</th>\n",
       "    </tr>\n",
       "  </thead>\n",
       "  <tbody>\n",
       "    <tr>\n",
       "      <th>0</th>\n",
       "      <td>COPD</td>\n",
       "      <td>NaN</td>\n",
       "      <td>Yes</td>\n",
       "      <td>11142</td>\n",
       "      <td>11151.0</td>\n",
       "      <td>NaN</td>\n",
       "      <td>11382</td>\n",
       "      <td>No</td>\n",
       "      <td>0</td>\n",
       "      <td>0</td>\n",
       "      <td>...</td>\n",
       "      <td>No</td>\n",
       "      <td>No</td>\n",
       "      <td>No</td>\n",
       "      <td>No</td>\n",
       "      <td>No</td>\n",
       "      <td>0.0</td>\n",
       "      <td>NaN</td>\n",
       "      <td>white</td>\n",
       "      <td>Under $11k</td>\n",
       "      <td>5</td>\n",
       "    </tr>\n",
       "    <tr>\n",
       "      <th>1</th>\n",
       "      <td>MOSF w/Sepsis</td>\n",
       "      <td>NaN</td>\n",
       "      <td>No</td>\n",
       "      <td>11799</td>\n",
       "      <td>11844.0</td>\n",
       "      <td>11844.0</td>\n",
       "      <td>11844</td>\n",
       "      <td>Yes</td>\n",
       "      <td>1</td>\n",
       "      <td>1</td>\n",
       "      <td>...</td>\n",
       "      <td>No</td>\n",
       "      <td>No</td>\n",
       "      <td>Yes</td>\n",
       "      <td>No</td>\n",
       "      <td>No</td>\n",
       "      <td>NaN</td>\n",
       "      <td>1437.0</td>\n",
       "      <td>white</td>\n",
       "      <td>Under $11k</td>\n",
       "      <td>7</td>\n",
       "    </tr>\n",
       "    <tr>\n",
       "      <th>2</th>\n",
       "      <td>MOSF w/Malignancy</td>\n",
       "      <td>MOSF w/Sepsis</td>\n",
       "      <td>Yes</td>\n",
       "      <td>12083</td>\n",
       "      <td>12143.0</td>\n",
       "      <td>NaN</td>\n",
       "      <td>12400</td>\n",
       "      <td>No</td>\n",
       "      <td>0</td>\n",
       "      <td>0</td>\n",
       "      <td>...</td>\n",
       "      <td>No</td>\n",
       "      <td>No</td>\n",
       "      <td>No</td>\n",
       "      <td>No</td>\n",
       "      <td>No</td>\n",
       "      <td>NaN</td>\n",
       "      <td>599.0</td>\n",
       "      <td>white</td>\n",
       "      <td>$25-$50k</td>\n",
       "      <td>9</td>\n",
       "    </tr>\n",
       "    <tr>\n",
       "      <th>3</th>\n",
       "      <td>ARF</td>\n",
       "      <td>NaN</td>\n",
       "      <td>No</td>\n",
       "      <td>11146</td>\n",
       "      <td>11183.0</td>\n",
       "      <td>11183.0</td>\n",
       "      <td>11182</td>\n",
       "      <td>Yes</td>\n",
       "      <td>0</td>\n",
       "      <td>0</td>\n",
       "      <td>...</td>\n",
       "      <td>No</td>\n",
       "      <td>No</td>\n",
       "      <td>No</td>\n",
       "      <td>No</td>\n",
       "      <td>No</td>\n",
       "      <td>NaN</td>\n",
       "      <td>NaN</td>\n",
       "      <td>white</td>\n",
       "      <td>$11-$25k</td>\n",
       "      <td>10</td>\n",
       "    </tr>\n",
       "    <tr>\n",
       "      <th>4</th>\n",
       "      <td>MOSF w/Sepsis</td>\n",
       "      <td>NaN</td>\n",
       "      <td>No</td>\n",
       "      <td>12035</td>\n",
       "      <td>12037.0</td>\n",
       "      <td>12037.0</td>\n",
       "      <td>12036</td>\n",
       "      <td>Yes</td>\n",
       "      <td>0</td>\n",
       "      <td>0</td>\n",
       "      <td>...</td>\n",
       "      <td>No</td>\n",
       "      <td>No</td>\n",
       "      <td>No</td>\n",
       "      <td>No</td>\n",
       "      <td>No</td>\n",
       "      <td>NaN</td>\n",
       "      <td>64.0</td>\n",
       "      <td>white</td>\n",
       "      <td>Under $11k</td>\n",
       "      <td>11</td>\n",
       "    </tr>\n",
       "  </tbody>\n",
       "</table>\n",
       "<p>5 rows × 62 columns</p>\n",
       "</div>"
      ],
      "text/plain": [
       "                cat1           cat2   ca  sadmdte  dschdte   dthdte  lstctdte  \\\n",
       "0               COPD            NaN  Yes    11142  11151.0      NaN     11382   \n",
       "1      MOSF w/Sepsis            NaN   No    11799  11844.0  11844.0     11844   \n",
       "2  MOSF w/Malignancy  MOSF w/Sepsis  Yes    12083  12143.0      NaN     12400   \n",
       "3                ARF            NaN   No    11146  11183.0  11183.0     11182   \n",
       "4      MOSF w/Sepsis            NaN   No    12035  12037.0  12037.0     12036   \n",
       "\n",
       "  death  cardiohx  chfhx  ...  meta  hema  seps  trauma  ortho  adld3p  \\\n",
       "0    No         0      0  ...    No    No    No      No     No     0.0   \n",
       "1   Yes         1      1  ...    No    No   Yes      No     No     NaN   \n",
       "2    No         0      0  ...    No    No    No      No     No     NaN   \n",
       "3   Yes         0      0  ...    No    No    No      No     No     NaN   \n",
       "4   Yes         0      0  ...    No    No    No      No     No     NaN   \n",
       "\n",
       "    urin1   race      income  ptid  \n",
       "0     NaN  white  Under $11k     5  \n",
       "1  1437.0  white  Under $11k     7  \n",
       "2   599.0  white    $25-$50k     9  \n",
       "3     NaN  white    $11-$25k    10  \n",
       "4    64.0  white  Under $11k    11  \n",
       "\n",
       "[5 rows x 62 columns]"
      ]
     },
     "execution_count": 25,
     "metadata": {},
     "output_type": "execute_result"
    }
   ],
   "source": [
    "datasets = load_csvs(folder_name='/home/mfacotti/martin/tVAE_project')\n",
    "\n",
    "# Access the rhc.csv data using the filename (without extension) as key\n",
    "rhc_data = datasets['rhc']\n",
    "\n",
    "# Display basic information about the loaded data\n",
    "print(f\"Dataset shape: {rhc_data.shape}\")\n",
    "rhc_data.head()"
   ]
  },
  {
   "cell_type": "code",
   "execution_count": 26,
   "id": "db535a38",
   "metadata": {},
   "outputs": [],
   "source": [
    "metadata = SingleTableMetadata()\n",
    "metadata = Metadata.load_from_json('/home/mfacotti/martin/tVAE_project/original_metadata.json')\n",
    "metadata.validate()"
   ]
  },
  {
   "cell_type": "code",
   "execution_count": 28,
   "id": "7be483e5",
   "metadata": {},
   "outputs": [
    {
     "name": "stderr",
     "output_type": "stream",
     "text": [
      "Loss: 42.391: 100%|██████████| 500/500 [08:58<00:00,  1.08s/it]\n"
     ]
    }
   ],
   "source": [
    "synthesizer = TVAESynthesizer(\n",
    "    metadata, # required\n",
    "    enforce_min_max_values=True, # Control whether the synthetic data should adhere to the same min/max boundaries set by the real data\n",
    "    enforce_rounding=False, # Control whether the synthetic data should have the same number of decimal digits as the real data\n",
    "    epochs=500,\n",
    "    verbose=True,\n",
    ")\n",
    "\n",
    "synthesizer.fit(rhc_data)"
   ]
  },
  {
   "cell_type": "code",
   "execution_count": 29,
   "id": "aa1fa195",
   "metadata": {},
   "outputs": [],
   "source": [
    "synthesizer.get_loss_values()\n",
    "synthesizer.save(\n",
    "    filepath='test_model_tvae1.pkl'\n",
    ")"
   ]
  },
  {
   "cell_type": "code",
   "execution_count": null,
   "id": "1d37def3",
   "metadata": {},
   "outputs": [],
   "source": [
    "synthetic_data = synthesizer.sample(\n",
    "    num_rows=10000,\n",
    "    batch_size=100\n",
    ")\n",
    "\n",
    "synthetic_data.to_csv('synthetic_data_test1.csv', index=False)"
   ]
  },
  {
   "cell_type": "code",
   "execution_count": 36,
   "id": "f1facd2c",
   "metadata": {},
   "outputs": [
    {
     "name": "stdout",
     "output_type": "stream",
     "text": [
      "Generating report ...\n",
      "\n",
      "(1/2) Evaluating Data Validity: |██████████| 62/62 [00:00<00:00, 583.22it/s]|\n",
      "Data Validity Score: 100.0%\n",
      "\n",
      "(2/2) Evaluating Data Structure: |██████████| 1/1 [00:00<00:00, 225.56it/s]|\n",
      "Data Structure Score: 100.0%\n",
      "\n",
      "Overall Score (Average): 100.0%\n",
      "\n"
     ]
    }
   ],
   "source": [
    "diagnostic = run_diagnostic(\n",
    "    real_data=rhc_data,\n",
    "    synthetic_data=synthetic_data,\n",
    "    metadata=metadata\n",
    ")"
   ]
  },
  {
   "cell_type": "code",
   "execution_count": 35,
   "id": "4ba10b86",
   "metadata": {},
   "outputs": [
    {
     "name": "stdout",
     "output_type": "stream",
     "text": [
      "Generating report ...\n",
      "\n",
      "(1/2) Evaluating Column Shapes: |██████████| 62/62 [00:08<00:00,  7.40it/s]|\n",
      "Column Shapes Score: 91.22%\n",
      "\n",
      "(2/2) Evaluating Column Pair Trends: |██████████| 1891/1891 [00:18<00:00, 102.90it/s]|\n",
      "Column Pair Trends Score: 85.04%\n",
      "\n",
      "Overall Score (Average): 88.13%\n",
      "\n"
     ]
    }
   ],
   "source": [
    "quality_report = evaluate_quality(\n",
    "    rhc_data,\n",
    "    synthetic_data,\n",
    "    metadata\n",
    ")"
   ]
  },
  {
   "cell_type": "code",
   "execution_count": null,
   "id": "5921a60a",
   "metadata": {},
   "outputs": [
    {
     "name": "stdout",
     "output_type": "stream",
     "text": [
      "Missing Values Percentage Comparison:\n",
      "         Real Data (%)  Synthetic Data (%)\n",
      "cat2         79.075850               87.45\n",
      "adld3p       74.908457               80.60\n",
      "urin1        52.798605               52.18\n",
      "dthdte       35.100262               34.51\n",
      "dschdte       0.017437                0.02\n"
     ]
    },
    {
     "data": {
      "text/plain": [
       "<Figure size 1400x800 with 0 Axes>"
      ]
     },
     "metadata": {},
     "output_type": "display_data"
    },
    {
     "data": {
      "image/png": "[encoded data removed]",
      "text/plain": [
       "<Figure size 1400x800 with 1 Axes>"
      ]
     },
     "metadata": {},
     "output_type": "display_data"
    }
   ],
   "source": [
    "# Compare missing values percentage between real and synthetic data\n",
    "missing_real = rhc_data.isna().mean().sort_values(ascending=False) * 100\n",
    "missing_synthetic = synthetic_data.isna().mean().sort_values(ascending=False) * 100\n",
    "\n",
    "# Filter only columns with missing values\n",
    "missing_comparison = pd.DataFrame({\n",
    "    'Real Data (%)': missing_real[missing_real > 0],\n",
    "    'Synthetic Data (%)': missing_synthetic.reindex(missing_real[missing_real > 0].index)\n",
    "})\n",
    "\n",
    "# Display comparison\n",
    "print(\"Missing Values Percentage Comparison:\")\n",
    "print(missing_comparison)\n",
    "\n",
    "# Visualize the comparison\n",
    "plt.figure(figsize=(14, 8))\n",
    "missing_comparison.plot(kind='bar', figsize=(14, 8))\n",
    "plt.title('Missing Values Percentage: Real vs Synthetic Data')\n",
    "plt.ylabel('Missing Values (%)')\n",
    "plt.xlabel('Column')\n",
    "plt.xticks(rotation=45, ha='right')\n",
    "plt.legend()\n",
    "plt.grid(axis='y', linestyle='--', alpha=0.7)\n",
    "plt.tight_layout()\n",
    "plt.show()"
   ]
  }
 ],
 "metadata": {
  "kernelspec": {
   "display_name": "Python 3",
   "language": "python",
   "name": "python3"
  },
  "language_info": {
   "codemirror_mode": {
    "name": "ipython",
    "version": 3
   },
   "file_extension": ".py",
   "mimetype": "text/x-python",
   "name": "python",
   "nbconvert_exporter": "python",
   "pygments_lexer": "ipython3",
   "version": "3.10.12"
  }
 },
 "nbformat": 4,
 "nbformat_minor": 5
}
