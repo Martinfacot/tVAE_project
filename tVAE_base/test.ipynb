{
 "cells": [
  {
   "cell_type": "code",
   "execution_count": null,
   "id": "bd476058",
   "metadata": {},
   "outputs": [],
   "source": [
    "from .tVAE_bas.local import load_csvs"
   ]
  },
  {
   "cell_type": "code",
   "execution_count": null,
   "id": "85ed7651",
   "metadata": {},
   "outputs": [],
   "source": []
  }
 ],
 "metadata": {
  "language_info": {
   "name": "python"
  }
 },
 "nbformat": 4,
 "nbformat_minor": 5
}
