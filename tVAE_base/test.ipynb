{
 "cells": [
  {
   "cell_type": "code",
   "execution_count": 8,
   "id": "bd476058",
   "metadata": {},
   "outputs": [],
   "source": [
    "import sys\n",
    "import os\n",
    "import json\n",
    "import numpy as np\n",
    "import pandas as pd\n",
    "from importlib import import_module\n",
    "import seaborn as sns\n",
    "import matplotlib.pyplot as plt\n",
    "from types import MethodType\n",
    "\n",
    "\n",
    "# Add the parent directory to the Python path\n",
    "sys.path.append(os.path.abspath('..'))\n",
    "\n",
    "from tVAE_base.tvae_wrapper import TVAESynthesizer, LossValuesMixin\n",
    "from tVAE_base.local import load_csvs\n",
    "\n",
    "from sdv.metadata import Metadata, SingleTableMetadata\n",
    "from sdv.evaluation.single_table import run_diagnostic, evaluate_quality"
   ]
  },
  {
   "cell_type": "code",
   "execution_count": 9,
   "id": "85ed7651",
   "metadata": {},
   "outputs": [
    {
     "name": "stdout",
     "output_type": "stream",
     "text": [
      "Dataset shape: (5735, 62)\n"
     ]
    },
    {
     "name": "stderr",
     "output_type": "stream",
     "text": [
      "/home/mfacotti/martin/tVAE_project/tVAE_base/local.py:36: UserWarning:\n",
      "\n",
      "Ignoring incompatible files ['EDA.ipynb', 'README.md', 'test_metadata_fixed.json', '.gitignore', 'numerical_no_na_metadata.json', 'original_metadata.json', 'delete_first_column_rhc.py', 'test_metadata.json', 'test_model_tvae.pkl', 'generated_metadata.json', 'light_metadata.json', 'ctgan_test.ipynb'] in folder '/home/mfacotti/martin/tVAE_project'.\n",
      "\n"
     ]
    }
   ],
   "source": [
    "datasets = load_csvs(folder_name='/home/mfacotti/martin/tVAE_project')\n",
    "\n",
    "# load data\n",
    "rhc_data = datasets['rhc']\n",
    "\n",
    "# Display basic information about the loaded data\n",
    "print(f\"Dataset shape: {rhc_data.shape}\")"
   ]
  },
  {
   "cell_type": "code",
   "execution_count": 10,
   "id": "db535a38",
   "metadata": {},
   "outputs": [],
   "source": [
    "metadata = SingleTableMetadata()\n",
    "metadata = Metadata.load_from_json('/home/mfacotti/martin/tVAE_project/original_metadata.json')\n",
    "metadata.validate()"
   ]
  },
  {
   "cell_type": "code",
   "execution_count": 11,
   "id": "7be483e5",
   "metadata": {},
   "outputs": [
    {
     "name": "stderr",
     "output_type": "stream",
     "text": [
      "Loss: 83.586: 100%|██████████| 10/10 [00:16<00:00,  1.65s/it]\n"
     ]
    }
   ],
   "source": [
    "model = TVAESynthesizer(\n",
    "        metadata,\n",
    "        enforce_min_max_values=True,\n",
    "        enforce_rounding=True,\n",
    "        embedding_dim=128,\n",
    "        compress_dims=(32, 32),\n",
    "        decompress_dims=(32, 128),\n",
    "        l2scale=1e-5,\n",
    "        batch_size=256,\n",
    "        verbose=True,\n",
    "        epochs=10,\n",
    "        loss_factor=2,\n",
    ")\n",
    "\n",
    "model.fit(rhc_data)"
   ]
  },
  {
   "cell_type": "code",
   "execution_count": 12,
   "id": "514b9d2d",
   "metadata": {},
   "outputs": [
    {
     "name": "stdout",
     "output_type": "stream",
     "text": [
      "   Epoch  Batch        Loss\n",
      "0      0      0  249.808609\n",
      "1      0      1  232.324295\n",
      "2      0      2  223.540604\n",
      "3      0      3  214.192169\n",
      "4      0      4  203.951248\n"
     ]
    }
   ],
   "source": [
    "# Check if loss values are available\n",
    "loss_df = model.get_loss_values()\n",
    "print(loss_df.head())"
   ]
  },
  {
   "cell_type": "code",
   "execution_count": 14,
   "id": "b5ae8c49",
   "metadata": {},
   "outputs": [
    {
     "ename": "NameError",
     "evalue": "name 'plot_loss_over_epochs' is not defined",
     "output_type": "error",
     "traceback": [
      "\u001b[0;31m---------------------------------------------------------------------------\u001b[0m",
      "\u001b[0;31mNameError\u001b[0m                                 Traceback (most recent call last)",
      "Cell \u001b[0;32mIn[14], line 1\u001b[0m\n\u001b[0;32m----> 1\u001b[0m model\u001b[38;5;241m.\u001b[39mplot_loss_over_epochs \u001b[38;5;241m=\u001b[39m MethodType(\u001b[43mplot_loss_over_epochs\u001b[49m, model)\n\u001b[1;32m      3\u001b[0m model\u001b[38;5;241m.\u001b[39mplot_loss_over_epochs()\n",
      "\u001b[0;31mNameError\u001b[0m: name 'plot_loss_over_epochs' is not defined"
     ]
    }
   ],
   "source": [
    "model.plot_loss_over_epochs = MethodType(plot_loss_over_epochs, model)\n",
    "\n",
    "model.plot_loss_over_epochs()"
   ]
  },
  {
   "cell_type": "code",
   "execution_count": 7,
   "id": "c53479e4",
   "metadata": {},
   "outputs": [
    {
     "name": "stdout",
     "output_type": "stream",
     "text": [
      "Loss values columns: ['Epoch', 'Batch', 'Loss']\n",
      "\n",
      "First few rows of loss values:\n",
      "   Epoch  Batch        Loss\n",
      "0      0      0  225.015045\n",
      "1      0      1  217.967453\n",
      "2      0      2  207.612656\n",
      "3      0      3  202.042160\n",
      "4      0      4  200.476562\n",
      "Available columns: Index(['Epoch', 'Batch', 'Loss'], dtype='object')\n",
      "Using columns: Reconstruction=None, KLD=None, Total=Loss\n",
      "Error when plotting: Required loss columns not found in DataFrame. Available columns: Index(['Epoch', 'Batch', 'Loss'], dtype='object')\n"
     ]
    }
   ],
   "source": [
    "# First, print the column names and a sample of the loss values\n",
    "print(\"Loss values columns:\", model.get_loss_values().columns.tolist())\n",
    "print(\"\\nFirst few rows of loss values:\")\n",
    "print(model.get_loss_values().head())\n",
    "\n",
    "# Try plotting with the fixed function\n",
    "try:\n",
    "    model.plot_loss_over_epochs()\n",
    "except Exception as e:\n",
    "    print(f\"Error when plotting: {e}\")\n"
   ]
  },
  {
   "cell_type": "code",
   "execution_count": 7,
   "id": "87db3a23",
   "metadata": {},
   "outputs": [],
   "source": [
    "model_name = 'tvae1_ep1500_compress32'\n",
    "model_filepath = f'test_model_{model_name}.pkl'"
   ]
  },
  {
   "cell_type": "code",
   "execution_count": null,
   "id": "aa1fa195",
   "metadata": {},
   "outputs": [],
   "source": [
    "model.save(\n",
    "    filepath=model_filepath\n",
    ")"
   ]
  },
  {
   "cell_type": "code",
   "execution_count": null,
   "id": "1d37def3",
   "metadata": {},
   "outputs": [
    {
     "name": "stderr",
     "output_type": "stream",
     "text": [
      "Sampling rows: 100%|██████████| 10000/10000 [00:52<00:00, 190.99it/s]\n"
     ]
    }
   ],
   "source": [
    "synthetic_data = model.sample(\n",
    "    num_rows=10000,\n",
    "    batch_size=100\n",
    ")\n",
    "\n",
    "output_filename = f'synthetic_data_{model_name}.csv'\n",
    "synthetic_data.to_csv(output_filename, index=False)"
   ]
  },
  {
   "cell_type": "code",
   "execution_count": 10,
   "id": "f1facd2c",
   "metadata": {},
   "outputs": [
    {
     "name": "stdout",
     "output_type": "stream",
     "text": [
      "Generating report ...\n",
      "\n",
      "(1/2) Evaluating Data Validity: |██████████| 62/62 [00:00<00:00, 585.94it/s]|\n",
      "Data Validity Score: 100.0%\n",
      "\n",
      "(2/2) Evaluating Data Structure: |██████████| 1/1 [00:00<00:00, 159.46it/s]|\n",
      "Data Structure Score: 100.0%\n",
      "\n",
      "Overall Score (Average): 100.0%\n",
      "\n"
     ]
    }
   ],
   "source": [
    "diagnostic = run_diagnostic(\n",
    "    real_data=rhc_data,\n",
    "    synthetic_data=synthetic_data,\n",
    "    metadata=metadata\n",
    ")"
   ]
  },
  {
   "cell_type": "code",
   "execution_count": 11,
   "id": "4ba10b86",
   "metadata": {},
   "outputs": [
    {
     "name": "stdout",
     "output_type": "stream",
     "text": [
      "Generating report ...\n",
      "\n",
      "(1/2) Evaluating Column Shapes: |██████████| 62/62 [00:09<00:00,  6.67it/s]|\n",
      "Column Shapes Score: 90.45%\n",
      "\n",
      "(2/2) Evaluating Column Pair Trends: |██████████| 1891/1891 [00:19<00:00, 98.13it/s]| \n",
      "Column Pair Trends Score: 84.53%\n",
      "\n",
      "Overall Score (Average): 87.49%\n",
      "\n"
     ]
    }
   ],
   "source": [
    "quality_report = evaluate_quality(\n",
    "    rhc_data,\n",
    "    synthetic_data,\n",
    "    metadata\n",
    ")"
   ]
  },
  {
   "cell_type": "code",
   "execution_count": 12,
   "id": "5921a60a",
   "metadata": {},
   "outputs": [
    {
     "name": "stdout",
     "output_type": "stream",
     "text": [
      "Missing Values Percentage Comparison:\n",
      "         Real Data (%)  Synthetic Data (%)\n",
      "cat2         79.075850               93.30\n",
      "adld3p       74.908457               82.11\n",
      "urin1        52.798605               52.18\n",
      "dthdte       35.100262               34.51\n",
      "dschdte       0.017437                0.02\n"
     ]
    },
    {
     "data": {
      "text/plain": [
       "<Figure size 1400x800 with 0 Axes>"
      ]
     },
     "metadata": {},
     "output_type": "display_data"
    },
    {
     "data": {
      "image/png": "[encoded data removed]",
      "text/plain": [
       "<Figure size 1400x800 with 1 Axes>"
      ]
     },
     "metadata": {},
     "output_type": "display_data"
    }
   ],
   "source": [
    "# Compare missing values percentage between real and synthetic data\n",
    "missing_real = rhc_data.isna().mean().sort_values(ascending=False) * 100\n",
    "missing_synthetic = synthetic_data.isna().mean().sort_values(ascending=False) * 100\n",
    "\n",
    "# Filter only columns with missing values\n",
    "missing_comparison = pd.DataFrame({\n",
    "    'Real Data (%)': missing_real[missing_real > 0],\n",
    "    'Synthetic Data (%)': missing_synthetic.reindex(missing_real[missing_real > 0].index)\n",
    "})\n",
    "\n",
    "# Display comparison\n",
    "print(\"Missing Values Percentage Comparison:\")\n",
    "print(missing_comparison)\n",
    "\n",
    "# Visualize the comparison\n",
    "plt.figure(figsize=(14, 8))\n",
    "missing_comparison.plot(kind='bar', figsize=(14, 8))\n",
    "plt.title('Missing Values Percentage: Real vs Synthetic Data')\n",
    "plt.ylabel('Missing Values (%)')\n",
    "plt.xlabel('Column')\n",
    "plt.xticks(rotation=45, ha='right')\n",
    "plt.legend()\n",
    "plt.grid(axis='y', linestyle='--', alpha=0.7)\n",
    "plt.tight_layout()\n",
    "plt.show()"
   ]
  }
 ],
 "metadata": {
  "kernelspec": {
   "display_name": "Python 3",
   "language": "python",
   "name": "python3"
  },
  "language_info": {
   "codemirror_mode": {
    "name": "ipython",
    "version": 3
   },
   "file_extension": ".py",
   "mimetype": "text/x-python",
   "name": "python",
   "nbconvert_exporter": "python",
   "pygments_lexer": "ipython3",
   "version": "3.10.12"
  }
 },
 "nbformat": 4,
 "nbformat_minor": 5
}
